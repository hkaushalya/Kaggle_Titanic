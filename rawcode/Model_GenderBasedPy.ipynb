{
 "metadata": {
  "name": "",
  "signature": "sha256:deaf01e52e07258f516c869952b3821a289022db7c87f4fcdfeb3ada9f2f7e79"
 },
 "nbformat": 3,
 "nbformat_minor": 0,
 "worksheets": [
  {
   "cells": [
    {
     "cell_type": "code",
     "collapsed": false,
     "input": [
      "!pwd"
     ],
     "language": "python",
     "metadata": {},
     "outputs": [
      {
       "output_type": "stream",
       "stream": "stdout",
       "text": [
        "/Users/samantha/Documents/Personal/Samantha/GITSandbox/Kaggle_Titanic/rawcode\r\n"
       ]
      }
     ],
     "prompt_number": 25
    },
    {
     "cell_type": "code",
     "collapsed": false,
     "input": [
      "import numpy as np\n",
      "import matplotlib as p\n",
      "import pdb\n",
      "from pandas import *"
     ],
     "language": "python",
     "metadata": {},
     "outputs": [],
     "prompt_number": 26
    },
    {
     "cell_type": "code",
     "collapsed": false,
     "input": [
      "# Set some Pandas options\n",
      "pandas.set_option('display.notebook_repr_html', False)\n",
      "pandas.set_option('display.max_columns', 20)\n",
      "pandas.set_option('display.max_rows', 25)\n",
      "%matplotlib inline"
     ],
     "language": "python",
     "metadata": {},
     "outputs": [],
     "prompt_number": 51
    },
    {
     "cell_type": "code",
     "collapsed": false,
     "input": [
      "train = read_csv('../data/train.csv')\n",
      "train[:5]"
     ],
     "language": "python",
     "metadata": {},
     "outputs": [
      {
       "metadata": {},
       "output_type": "pyout",
       "prompt_number": 28,
       "text": [
        "   PassengerId  Survived  Pclass  \\\n",
        "0            1         0       3   \n",
        "1            2         1       1   \n",
        "2            3         1       3   \n",
        "3            4         1       1   \n",
        "4            5         0       3   \n",
        "\n",
        "                                                Name     Sex  Age  SibSp  \\\n",
        "0                            Braund, Mr. Owen Harris    male   22      1   \n",
        "1  Cumings, Mrs. John Bradley (Florence Briggs Th...  female   38      1   \n",
        "2                             Heikkinen, Miss. Laina  female   26      0   \n",
        "3       Futrelle, Mrs. Jacques Heath (Lily May Peel)  female   35      1   \n",
        "4                           Allen, Mr. William Henry    male   35      0   \n",
        "\n",
        "   Parch            Ticket     Fare Cabin Embarked  \n",
        "0      0         A/5 21171   7.2500   NaN        S  \n",
        "1      0          PC 17599  71.2833   C85        C  \n",
        "2      0  STON/O2. 3101282   7.9250   NaN        S  \n",
        "3      0            113803  53.1000  C123        S  \n",
        "4      0            373450   8.0500   NaN        S  "
       ]
      }
     ],
     "prompt_number": 28
    },
    {
     "cell_type": "code",
     "collapsed": false,
     "input": [
      "train.shape"
     ],
     "language": "python",
     "metadata": {},
     "outputs": [
      {
       "metadata": {},
       "output_type": "pyout",
       "prompt_number": 29,
       "text": [
        "(891, 12)"
       ]
      }
     ],
     "prompt_number": 29
    },
    {
     "cell_type": "code",
     "collapsed": false,
     "input": [
      "grouped = train.groupby(['Sex','SibSp'])"
     ],
     "language": "python",
     "metadata": {},
     "outputs": [],
     "prompt_number": 44
    },
    {
     "cell_type": "code",
     "collapsed": false,
     "input": [
      "#test = grouped.Survived.aggregate(np.sum)\n",
      "test = grouped.Survived.mean()\n",
      "test"
     ],
     "language": "python",
     "metadata": {},
     "outputs": [
      {
       "metadata": {},
       "output_type": "pyout",
       "prompt_number": 45,
       "text": [
        "Sex     SibSp\n",
        "female  0        0.787356\n",
        "        1        0.754717\n",
        "        2        0.769231\n",
        "        3        0.363636\n",
        "        4        0.333333\n",
        "        5        0.000000\n",
        "        8        0.000000\n",
        "male    0        0.168203\n",
        "        1        0.310680\n",
        "        2        0.200000\n",
        "        3        0.000000\n",
        "        4        0.083333\n",
        "        5        0.000000\n",
        "        8        0.000000\n",
        "Name: Survived, dtype: float64"
       ]
      }
     ],
     "prompt_number": 45
    },
    {
     "cell_type": "code",
     "collapsed": false,
     "input": [
      "sex_effect = train.groupby('Sex').Survived.mean()\n",
      "sex_effect"
     ],
     "language": "python",
     "metadata": {},
     "outputs": [
      {
       "metadata": {},
       "output_type": "pyout",
       "prompt_number": 54,
       "text": [
        "Sex\n",
        "female    0.742038\n",
        "male      0.188908\n",
        "Name: Survived, dtype: float64"
       ]
      }
     ],
     "prompt_number": 54
    },
    {
     "cell_type": "code",
     "collapsed": false,
     "input": [
      "sibling_effect = train.groupby('SibSp').Survived.mean()\n",
      "sibling_effect.plot()"
     ],
     "language": "python",
     "metadata": {},
     "outputs": [
      {
       "metadata": {},
       "output_type": "pyout",
       "prompt_number": 63,
       "text": [
        "<matplotlib.axes.AxesSubplot at 0x10dc1a790>"
       ]
      },
      {
       "metadata": {},
       "output_type": "display_data",
       "png": "[encoded data removed]",
       "text": [
        "<matplotlib.figure.Figure at 0x10dc38b10>"
       ]
      }
     ],
     "prompt_number": 63
    },
    {
     "cell_type": "code",
     "collapsed": false,
     "input": [
      "age_effect = train.groupby('Survived').Age.mean()\n",
      "age_effect.plot(kind='bar')"
     ],
     "language": "python",
     "metadata": {},
     "outputs": [
      {
       "metadata": {},
       "output_type": "pyout",
       "prompt_number": 88,
       "text": [
        "<matplotlib.axes.AxesSubplot at 0x112fde550>"
       ]
      },
      {
       "metadata": {},
       "output_type": "display_data",
       "png": "[encoded data removed]",
       "text": [
        "<matplotlib.figure.Figure at 0x10e79bb50>"
       ]
      }
     ],
     "prompt_number": 88
    },
    {
     "cell_type": "code",
     "collapsed": false,
     "input": [
      "parch_effect = train.groupby('Parch').Survived.mean()\n",
      "parch_effect.plot(kind='line')"
     ],
     "language": "python",
     "metadata": {},
     "outputs": [
      {
       "metadata": {},
       "output_type": "pyout",
       "prompt_number": 85,
       "text": [
        "<matplotlib.axes.AxesSubplot at 0x111c1ac50>"
       ]
      },
      {
       "metadata": {},
       "output_type": "display_data",
       "png": "[encoded data removed]",
       "text": [
        "<matplotlib.figure.Figure at 0x10fc8cd10>"
       ]
      }
     ],
     "prompt_number": 85
    },
    {
     "cell_type": "code",
     "collapsed": false,
     "input": [
      "train.groupby(['Sex','Pclass']).Survived.sum().plot(kind='barh')"
     ],
     "language": "python",
     "metadata": {},
     "outputs": [
      {
       "metadata": {},
       "output_type": "pyout",
       "prompt_number": 90,
       "text": [
        "<matplotlib.axes.AxesSubplot at 0x113a64c10>"
       ]
      },
      {
       "metadata": {},
       "output_type": "display_data",
       "png": "[encoded data removed]",
       "text": [
        "<matplotlib.figure.Figure at 0x112c9a250>"
       ]
      }
     ],
     "prompt_number": 90
    },
    {
     "cell_type": "code",
     "collapsed": false,
     "input": [
      "survival_counts = crosstab([train.Sex, train.Pclass], train.Survived.astype(bool))\n",
      "survival_counts.plot(kind='bar', stacked=True)\n",
      "survival_counts\n",
      "survival_counts.div(survival_counts.sum(1).astype(float), axis=0)\n",
      "#survival_counts.div() .plot(kind='bar', stacked=True)\n"
     ],
     "language": "python",
     "metadata": {},
     "outputs": [
      {
       "metadata": {},
       "output_type": "pyout",
       "prompt_number": 99,
       "text": [
        "Survived          False     True \n",
        "Sex    Pclass                    \n",
        "female 1       0.031915  0.968085\n",
        "       2       0.078947  0.921053\n",
        "       3       0.500000  0.500000\n",
        "male   1       0.631148  0.368852\n",
        "       2       0.842593  0.157407\n",
        "       3       0.864553  0.135447"
       ]
      },
      {
       "metadata": {},
       "output_type": "display_data",
       "png": "[encoded data removed]",
       "text": [
        "<matplotlib.figure.Figure at 0x1140afc10>"
       ]
      }
     ],
     "prompt_number": 99
    },
    {
     "cell_type": "code",
     "collapsed": false,
     "input": [
      "train.columns"
     ],
     "language": "python",
     "metadata": {},
     "outputs": [
      {
       "metadata": {},
       "output_type": "pyout",
       "prompt_number": 101,
       "text": [
        "Index([u'PassengerId', u'Survived', u'Pclass', u'Name', u'Sex', u'Age', u'SibSp', u'Parch', u'Ticket', u'Fare', u'Cabin', u'Embarked'], dtype='object')"
       ]
      }
     ],
     "prompt_number": 101
    },
    {
     "cell_type": "code",
     "collapsed": false,
     "input": [
      "train.xs(0)"
     ],
     "language": "python",
     "metadata": {},
     "outputs": [
      {
       "metadata": {},
       "output_type": "pyout",
       "prompt_number": 102,
       "text": [
        "PassengerId                          1\n",
        "Survived                             0\n",
        "Pclass                               3\n",
        "Name           Braund, Mr. Owen Harris\n",
        "Sex                               male\n",
        "Age                                 22\n",
        "SibSp                                1\n",
        "Parch                                0\n",
        "Ticket                       A/5 21171\n",
        "Fare                              7.25\n",
        "Cabin                              NaN\n",
        "Embarked                             S\n",
        "Name: 0, dtype: object"
       ]
      }
     ],
     "prompt_number": 102
    },
    {
     "cell_type": "heading",
     "level": 6,
     "metadata": {},
     "source": [
      "Create new column for prediction"
     ]
    },
    {
     "cell_type": "code",
     "collapsed": false,
     "input": [
      "train['Prediction'] = 0"
     ],
     "language": "python",
     "metadata": {},
     "outputs": [],
     "prompt_number": 108
    },
    {
     "cell_type": "code",
     "collapsed": false,
     "input": [
      "train.Prediction[train.Sex == 'female'] = 1\n",
      "train.Prediction[train.Sex != 'female'] = 0"
     ],
     "language": "python",
     "metadata": {},
     "outputs": [],
     "prompt_number": 109
    },
    {
     "cell_type": "heading",
     "level": 6,
     "metadata": {},
     "source": [
      "Rearrange colums"
     ]
    },
    {
     "cell_type": "code",
     "collapsed": false,
     "input": [
      "new_order =[11]+range(11)\n",
      "train = train.reindex(columns=train.columns[new_order])\n",
      "train.head()"
     ],
     "language": "python",
     "metadata": {},
     "outputs": [
      {
       "metadata": {},
       "output_type": "pyout",
       "prompt_number": 111,
       "text": [
        "  Cabin Embarked  PassengerId  Survived  Pclass  \\\n",
        "0   NaN        S            1         0       3   \n",
        "1   C85        C            2         1       1   \n",
        "2   NaN        S            3         1       3   \n",
        "3  C123        S            4         1       1   \n",
        "4   NaN        S            5         0       3   \n",
        "\n",
        "                                                Name     Sex  Age  SibSp  \\\n",
        "0                            Braund, Mr. Owen Harris    male   22      1   \n",
        "1  Cumings, Mrs. John Bradley (Florence Briggs Th...  female   38      1   \n",
        "2                             Heikkinen, Miss. Laina  female   26      0   \n",
        "3       Futrelle, Mrs. Jacques Heath (Lily May Peel)  female   35      1   \n",
        "4                           Allen, Mr. William Henry    male   35      0   \n",
        "\n",
        "   Parch            Ticket     Fare  \n",
        "0      0         A/5 21171   7.2500  \n",
        "1      0          PC 17599  71.2833  \n",
        "2      0  STON/O2. 3101282   7.9250  \n",
        "3      0            113803  53.1000  \n",
        "4      0            373450   8.0500  "
       ]
      }
     ],
     "prompt_number": 111
    },
    {
     "cell_type": "heading",
     "level": 6,
     "metadata": {},
     "source": [
      "write to a file"
     ]
    },
    {
     "cell_type": "code",
     "collapsed": false,
     "input": [
      "train.to_csv('genderbasedmodelpy.csv', index=False)"
     ],
     "language": "python",
     "metadata": {},
     "outputs": [],
     "prompt_number": 112
    }
   ],
   "metadata": {}
  }
 ]
}